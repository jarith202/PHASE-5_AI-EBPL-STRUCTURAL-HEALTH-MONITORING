{
  "nbformat": 4,
  "nbformat_minor": 0,
  "metadata": {
    "colab": {
      "provenance": [],
      "authorship_tag": "ABX9TyM9Cqst/Xc4/whWLiUBvTlM",
      "include_colab_link": true
    },
    "kernelspec": {
      "name": "python3",
      "display_name": "Python 3"
    },
    "language_info": {
      "name": "python"
    }
  },
  "cells": [
    {
      "cell_type": "markdown",
      "metadata": {
        "id": "view-in-github",
        "colab_type": "text"
      },
      "source": [
        "<a href=\"https://colab.research.google.com/github/jarith202/PHASE-5_AI-EBPL-STRUCTURAL-HEALTH-MONITORING/blob/main/Phase_5.ipynb\" target=\"_parent\"><img src=\"https://colab.research.google.com/assets/colab-badge.svg\" alt=\"Open In Colab\"/></a>"
      ]
    },
    {
      "cell_type": "code",
      "source": [
        "import random\n",
        "import time\n",
        "import logging\n",
        "\n",
        "# Configure logging\n",
        "logging.basicConfig(filename=\"shm_log.txt\", level=logging.INFO, format=\"%(asctime)s - %(message)s\")\n",
        "\n",
        "# Simulated sensor data generator\n",
        "def generate_sensor_data():\n",
        "    return {\n",
        "        'strain': random.uniform(0.1, 5.0),  # arbitrary unit\n",
        "        'vibration': random.uniform(0.1, 10.0),  # Hz\n",
        "        'temperature': random.uniform(15.0, 45.0)  # °C\n",
        "    }\n",
        "\n",
        "# Simulated AI model for anomaly detection\n",
        "def ai_model(sensor_data):\n",
        "    if sensor_data['strain'] > 4.0 or sensor_data['vibration'] > 8.0:\n",
        "        return \"Anomaly Detected\"\n",
        "    return \"Normal\"\n",
        "\n",
        "# EBPL rules for verifying AI output\n",
        "def ebpl_verification(sensor_data, ai_output):\n",
        "    # Rule-based validation: confirm anomaly only if multiple parameters exceed thresholds\n",
        "    if ai_output == \"Anomaly Detected\":\n",
        "        if sensor_data['strain'] > 4.0 and sensor_data['vibration'] > 8.0:\n",
        "            return True  # Confirmed anomaly\n",
        "        else:\n",
        "            return False  # False positive\n",
        "    return False\n",
        "\n",
        "# Visualization (console output for simplicity)\n",
        "def display_status(sensor_data, status):\n",
        "    print(f\"Sensor Data: {sensor_data}\")\n",
        "    print(f\"System Status: {status}\\n\")\n",
        "\n",
        "# Real-time monitoring simulation\n",
        "def monitor(duration_seconds=10, interval=1):\n",
        "    start_time = time.time()\n",
        "    while time.time() - start_time < duration_seconds:\n",
        "        data = generate_sensor_data()\n",
        "        ai_result = ai_model(data)\n",
        "        verified = ebpl_verification(data, ai_result)\n",
        "\n",
        "        status = \"ALERT: Anomaly Confirmed!\" if verified else \"All Normal\"\n",
        "        display_status(data, status)\n",
        "\n",
        "        # Log if there's an alert\n",
        "        if verified:\n",
        "            logging.info(f\"Anomaly confirmed with data: {data}\")\n",
        "        elif ai_result == \"Anomaly Detected\":\n",
        "            logging.info(f\"False positive detected by AI, EBPL blocked it. Data: {data}\")\n",
        "        time.sleep(interval)\n",
        "\n",
        "if __name__ == \"__main__\":\n",
        "    print(\"Starting AI-EBPL Structural Health Monitoring System...\\n\")\n",
        "    monitor(duration_seconds=30, interval=2)  # Monitor for 30 seconds"
      ],
      "metadata": {
        "id": "cFVMfcGRXbw9",
        "colab": {
          "base_uri": "https://localhost:8080/"
        },
        "outputId": "b7f295c5-0457-4e10-f144-d3a144ac30f0"
      },
      "execution_count": null,
      "outputs": [
        {
          "output_type": "stream",
          "name": "stdout",
          "text": [
            "Starting AI-EBPL Structural Health Monitoring System...\n",
            "\n",
            "Sensor Data: {'strain': 2.8786405385273164, 'vibration': 5.497127686015638, 'temperature': 30.138533826990173}\n",
            "System Status: All Normal\n",
            "\n",
            "Sensor Data: {'strain': 4.384696088194852, 'vibration': 2.509271980818876, 'temperature': 24.170074912170715}\n",
            "System Status: All Normal\n",
            "\n",
            "Sensor Data: {'strain': 2.873187966003596, 'vibration': 1.599432171089064, 'temperature': 28.14558858334275}\n",
            "System Status: All Normal\n",
            "\n",
            "Sensor Data: {'strain': 2.8182322291341646, 'vibration': 2.611722693191535, 'temperature': 25.450513194163523}\n",
            "System Status: All Normal\n",
            "\n",
            "Sensor Data: {'strain': 2.865178368467929, 'vibration': 8.983812104604155, 'temperature': 19.896276512169564}\n",
            "System Status: All Normal\n",
            "\n",
            "Sensor Data: {'strain': 4.778954826630943, 'vibration': 9.418709975999125, 'temperature': 39.02801582982136}\n",
            "System Status: ALERT: Anomaly Confirmed!\n",
            "\n",
            "Sensor Data: {'strain': 1.2545177700558383, 'vibration': 1.4625257829610598, 'temperature': 25.123395446252033}\n",
            "System Status: All Normal\n",
            "\n",
            "Sensor Data: {'strain': 4.653652878878422, 'vibration': 1.5552697914315716, 'temperature': 24.34713076569374}\n",
            "System Status: All Normal\n",
            "\n",
            "Sensor Data: {'strain': 0.20376662919155208, 'vibration': 8.176166467762737, 'temperature': 19.752378319656355}\n",
            "System Status: All Normal\n",
            "\n",
            "Sensor Data: {'strain': 1.5069582825912036, 'vibration': 3.372956158533223, 'temperature': 15.150473054399875}\n",
            "System Status: All Normal\n",
            "\n",
            "Sensor Data: {'strain': 0.14363226336987184, 'vibration': 5.961734108731609, 'temperature': 36.95691598567669}\n",
            "System Status: All Normal\n",
            "\n",
            "Sensor Data: {'strain': 4.341090213723078, 'vibration': 6.262769645289406, 'temperature': 18.61184615619361}\n",
            "System Status: All Normal\n",
            "\n",
            "Sensor Data: {'strain': 3.4287938952328685, 'vibration': 3.9587770377257074, 'temperature': 22.65536002338918}\n",
            "System Status: All Normal\n",
            "\n",
            "Sensor Data: {'strain': 0.35090192601688774, 'vibration': 4.6617148511719915, 'temperature': 36.59315841393699}\n",
            "System Status: All Normal\n",
            "\n",
            "Sensor Data: {'strain': 3.8132846601768273, 'vibration': 7.912271592924893, 'temperature': 29.08935296812369}\n",
            "System Status: All Normal\n",
            "\n"
          ]
        }
      ]
    }
  ]
}